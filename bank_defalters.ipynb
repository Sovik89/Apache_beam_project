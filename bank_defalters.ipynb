{
 "cells": [
  {
   "cell_type": "markdown",
   "metadata": {},
   "source": [
    "             \n",
    "\n",
    "             Credit card skippers/defaulters:\n",
    "\n",
    "              --> Assign 1 point to customer for short payment, where a short payment means when customer fails to clear atleast 70% of its monthly spends.\n",
    "\n",
    "              --> Assign 1 point to customer where he has spent 100% of his max_limit but did not clear the full amount.\n",
    "\n",
    "              --> If for any month customer is meeting both the above conditions,assign 1 additional point.\n",
    "\n",
    "              --> Sum up all the points for a customer and output in file.\n",
    "\n",
    "\n",
    "\n",
    "\n",
    "            Loan file key points:\n",
    "\n",
    "          --> For Personal loan category, Bank does not accept short or late payments.\n",
    "               If a person has not paid monthly installment then that month's entry won't be present in the file.\n",
    "\n",
    "           --> For Medical loan, Bank does accepts late payments but it should be the full amount. It is assumed that there is every month's data/record for Medical Loan.\n",
    "\n",
    "\n",
    "          \n",
    "              Loan defaulters:\n",
    "\n",
    "          --> Medical Loan defaulters : If customer has made a total of 3 or more late payments.\n",
    "\n",
    "          --> Personal Loan defaulters : If customer has missed a total of 4 or more installments OR missed 2 consecutive installments.\n",
    "\n",
    "\n",
    "\n",
    "\n",
    "\n",
    "                   "
   ]
  },
  {
   "cell_type": "markdown",
   "metadata": {},
   "source": [
    "Install Apache beam"
   ]
  },
  {
   "cell_type": "code",
   "execution_count": 1,
   "metadata": {},
   "outputs": [
    {
     "name": "stdout",
     "output_type": "stream",
     "text": [
      "Requirement already satisfied: apache_beam in c:\\users\\sovik\\appdata\\local\\programs\\python\\python310\\lib\\site-packages (2.58.1)\n",
      "Requirement already satisfied: fasteners<1.0,>=0.3 in c:\\users\\sovik\\appdata\\local\\programs\\python\\python310\\lib\\site-packages (from apache_beam) (0.19)\n",
      "Requirement already satisfied: python-dateutil<3,>=2.8.0 in c:\\users\\sovik\\appdata\\roaming\\python\\python310\\site-packages (from apache_beam) (2.9.0.post0)\n",
      "Requirement already satisfied: protobuf!=4.0.*,!=4.21.*,!=4.22.0,!=4.23.*,!=4.24.*,<4.26.0,>=3.20.3 in c:\\users\\sovik\\appdata\\local\\programs\\python\\python310\\lib\\site-packages (from apache_beam) (4.25.4)\n",
      "Requirement already satisfied: pydot<2,>=1.2.0 in c:\\users\\sovik\\appdata\\local\\programs\\python\\python310\\lib\\site-packages (from apache_beam) (1.4.2)\n",
      "Requirement already satisfied: regex>=2020.6.8 in c:\\users\\sovik\\appdata\\local\\programs\\python\\python310\\lib\\site-packages (from apache_beam) (2024.7.24)\n",
      "Requirement already satisfied: numpy<1.27.0,>=1.14.3 in c:\\users\\sovik\\appdata\\local\\programs\\python\\python310\\lib\\site-packages (from apache_beam) (1.26.4)\n",
      "Requirement already satisfied: jsonschema<5.0.0,>=4.0.0 in c:\\users\\sovik\\appdata\\local\\programs\\python\\python310\\lib\\site-packages (from apache_beam) (4.23.0)\n",
      "Requirement already satisfied: pytz>=2018.3 in c:\\users\\sovik\\appdata\\local\\programs\\python\\python310\\lib\\site-packages (from apache_beam) (2024.1)\n",
      "Requirement already satisfied: httplib2<0.23.0,>=0.8 in c:\\users\\sovik\\appdata\\local\\programs\\python\\python310\\lib\\site-packages (from apache_beam) (0.22.0)\n",
      "Requirement already satisfied: packaging>=22.0 in c:\\users\\sovik\\appdata\\roaming\\python\\python310\\site-packages (from apache_beam) (24.0)\n",
      "Requirement already satisfied: proto-plus<2,>=1.7.1 in c:\\users\\sovik\\appdata\\local\\programs\\python\\python310\\lib\\site-packages (from apache_beam) (1.24.0)\n",
      "Requirement already satisfied: requests!=2.32.*,<3.0.0,>=2.24.0 in c:\\users\\sovik\\appdata\\local\\programs\\python\\python310\\lib\\site-packages (from apache_beam) (2.31.0)\n",
      "Requirement already satisfied: js2py<1,>=0.74 in c:\\users\\sovik\\appdata\\local\\programs\\python\\python310\\lib\\site-packages (from apache_beam) (0.74)\n",
      "Requirement already satisfied: fastavro<2,>=0.23.6 in c:\\users\\sovik\\appdata\\local\\programs\\python\\python310\\lib\\site-packages (from apache_beam) (1.9.5)\n",
      "Requirement already satisfied: jsonpickle<4.0.0,>=3.0.0 in c:\\users\\sovik\\appdata\\local\\programs\\python\\python310\\lib\\site-packages (from apache_beam) (3.2.2)\n",
      "Requirement already satisfied: pyarrow-hotfix<1 in c:\\users\\sovik\\appdata\\local\\programs\\python\\python310\\lib\\site-packages (from apache_beam) (0.6)\n",
      "Requirement already satisfied: cloudpickle~=2.2.1 in c:\\users\\sovik\\appdata\\local\\programs\\python\\python310\\lib\\site-packages (from apache_beam) (2.2.1)\n",
      "Requirement already satisfied: grpcio!=1.48.0,!=1.59.*,!=1.60.*,!=1.61.*,!=1.62.0,!=1.62.1,<2,>=1.33.1 in c:\\users\\sovik\\appdata\\local\\programs\\python\\python310\\lib\\site-packages (from apache_beam) (1.65.5)\n",
      "Requirement already satisfied: objsize<0.8.0,>=0.6.1 in c:\\users\\sovik\\appdata\\local\\programs\\python\\python310\\lib\\site-packages (from apache_beam) (0.7.0)\n",
      "Requirement already satisfied: hdfs<3.0.0,>=2.1.0 in c:\\users\\sovik\\appdata\\local\\programs\\python\\python310\\lib\\site-packages (from apache_beam) (2.7.3)\n",
      "Requirement already satisfied: pyarrow<17.0.0,>=3.0.0 in c:\\users\\sovik\\appdata\\local\\programs\\python\\python310\\lib\\site-packages (from apache_beam) (16.1.0)\n",
      "Requirement already satisfied: typing-extensions>=3.7.0 in c:\\users\\sovik\\appdata\\roaming\\python\\python310\\site-packages (from apache_beam) (4.10.0)\n",
      "Requirement already satisfied: orjson<4,>=3.9.7 in c:\\users\\sovik\\appdata\\local\\programs\\python\\python310\\lib\\site-packages (from apache_beam) (3.10.7)\n",
      "Requirement already satisfied: crcmod<2.0,>=1.7 in c:\\users\\sovik\\appdata\\local\\programs\\python\\python310\\lib\\site-packages (from apache_beam) (1.7)\n",
      "Requirement already satisfied: zstandard<1,>=0.18.0 in c:\\users\\sovik\\appdata\\local\\programs\\python\\python310\\lib\\site-packages (from apache_beam) (0.23.0)\n",
      "Requirement already satisfied: pymongo<5.0.0,>=3.8.0 in c:\\users\\sovik\\appdata\\local\\programs\\python\\python310\\lib\\site-packages (from apache_beam) (4.8.0)\n",
      "Requirement already satisfied: redis<6,>=5.0.0 in c:\\users\\sovik\\appdata\\local\\programs\\python\\python310\\lib\\site-packages (from apache_beam) (5.0.8)\n",
      "Requirement already satisfied: dill<0.3.2,>=0.3.1.1 in c:\\users\\sovik\\appdata\\local\\programs\\python\\python310\\lib\\site-packages (from apache_beam) (0.3.1.1)\n",
      "Requirement already satisfied: docopt in c:\\users\\sovik\\appdata\\local\\programs\\python\\python310\\lib\\site-packages (from hdfs<3.0.0,>=2.1.0->apache_beam) (0.6.2)\n",
      "Requirement already satisfied: six>=1.9.0 in c:\\users\\sovik\\appdata\\roaming\\python\\python310\\site-packages (from hdfs<3.0.0,>=2.1.0->apache_beam) (1.16.0)\n",
      "Requirement already satisfied: pyparsing!=3.0.0,!=3.0.1,!=3.0.2,!=3.0.3,<4,>=2.4.2 in c:\\users\\sovik\\appdata\\local\\programs\\python\\python310\\lib\\site-packages (from httplib2<0.23.0,>=0.8->apache_beam) (3.1.2)\n",
      "Requirement already satisfied: pyjsparser>=2.5.1 in c:\\users\\sovik\\appdata\\local\\programs\\python\\python310\\lib\\site-packages (from js2py<1,>=0.74->apache_beam) (2.7.1)\n",
      "Requirement already satisfied: tzlocal>=1.2 in c:\\users\\sovik\\appdata\\local\\programs\\python\\python310\\lib\\site-packages (from js2py<1,>=0.74->apache_beam) (5.2)\n",
      "Requirement already satisfied: jsonschema-specifications>=2023.03.6 in c:\\users\\sovik\\appdata\\local\\programs\\python\\python310\\lib\\site-packages (from jsonschema<5.0.0,>=4.0.0->apache_beam) (2023.12.1)\n",
      "Requirement already satisfied: attrs>=22.2.0 in c:\\users\\sovik\\appdata\\local\\programs\\python\\python310\\lib\\site-packages (from jsonschema<5.0.0,>=4.0.0->apache_beam) (24.2.0)\n",
      "Requirement already satisfied: rpds-py>=0.7.1 in c:\\users\\sovik\\appdata\\local\\programs\\python\\python310\\lib\\site-packages (from jsonschema<5.0.0,>=4.0.0->apache_beam) (0.20.0)\n",
      "Requirement already satisfied: referencing>=0.28.4 in c:\\users\\sovik\\appdata\\local\\programs\\python\\python310\\lib\\site-packages (from jsonschema<5.0.0,>=4.0.0->apache_beam) (0.35.1)\n",
      "Requirement already satisfied: dnspython<3.0.0,>=1.16.0 in c:\\users\\sovik\\appdata\\local\\programs\\python\\python310\\lib\\site-packages (from pymongo<5.0.0,>=3.8.0->apache_beam) (2.6.1)\n",
      "Requirement already satisfied: async-timeout>=4.0.3 in c:\\users\\sovik\\appdata\\local\\programs\\python\\python310\\lib\\site-packages (from redis<6,>=5.0.0->apache_beam) (4.0.3)\n",
      "Requirement already satisfied: charset-normalizer<4,>=2 in c:\\users\\sovik\\appdata\\local\\programs\\python\\python310\\lib\\site-packages (from requests!=2.32.*,<3.0.0,>=2.24.0->apache_beam) (3.3.2)\n",
      "Requirement already satisfied: certifi>=2017.4.17 in c:\\users\\sovik\\appdata\\local\\programs\\python\\python310\\lib\\site-packages (from requests!=2.32.*,<3.0.0,>=2.24.0->apache_beam) (2024.7.4)\n",
      "Requirement already satisfied: idna<4,>=2.5 in c:\\users\\sovik\\appdata\\local\\programs\\python\\python310\\lib\\site-packages (from requests!=2.32.*,<3.0.0,>=2.24.0->apache_beam) (3.7)\n",
      "Requirement already satisfied: urllib3<3,>=1.21.1 in c:\\users\\sovik\\appdata\\local\\programs\\python\\python310\\lib\\site-packages (from requests!=2.32.*,<3.0.0,>=2.24.0->apache_beam) (2.2.2)\n",
      "Requirement already satisfied: tzdata in c:\\users\\sovik\\appdata\\local\\programs\\python\\python310\\lib\\site-packages (from tzlocal>=1.2->js2py<1,>=0.74->apache_beam) (2024.1)\n"
     ]
    },
    {
     "name": "stderr",
     "output_type": "stream",
     "text": [
      "\n",
      "[notice] A new release of pip available: 22.2.1 -> 24.2\n",
      "[notice] To update, run: python.exe -m pip install --upgrade pip\n"
     ]
    }
   ],
   "source": [
    "!pip install apache_beam"
   ]
  },
  {
   "cell_type": "markdown",
   "metadata": {},
   "source": [
    "Card Defaulter"
   ]
  },
  {
   "cell_type": "markdown",
   "metadata": {},
   "source": [
    "#Customer_id, First_name,Last_name,Relationship_no.,Card_type,Max_credit_limit,Total_Spent,Cash_withdrawn,Cleared_amount,Last_date"
   ]
  },
  {
   "cell_type": "code",
   "execution_count": 3,
   "metadata": {},
   "outputs": [
    {
     "name": "stderr",
     "output_type": "stream",
     "text": [
      "WARNING:apache_beam.io.filebasedsink:Deleting 1 existing files in target path matching: -*-of-%(num_shards)05d\n"
     ]
    },
    {
     "data": {
      "text/plain": [
       "<apache_beam.runners.portability.fn_api_runner.fn_runner.RunnerResult at 0x197cfd36530>"
      ]
     },
     "execution_count": 3,
     "metadata": {},
     "output_type": "execute_result"
    }
   ],
   "source": [
    "import apache_beam as beam\n",
    "\n",
    "def calculate_points(element):\n",
    "    customer_id,first_name,last_name,relationship_id,card_type,max_limit,spent,cash_withdrawn,payment_cleared,payment_date=element.split(\",\")\n",
    "    #[CT28383,Miyako,Burns,R_7488,Issuers,500,490,38,101,30-01-2018]\n",
    "    spent=int(spent)# spent = 490\n",
    "    payment_cleared=int(payment_cleared) #payment_cleared = 101\n",
    "    max_limit=int(max_limit)# max_limit = 500\n",
    "    \n",
    "    key_name=customer_id+\",\"+first_name+\" \"+last_name\n",
    "    defaulter_point=0\n",
    "    \n",
    "    # payment_cleared is less than 70% of spent - give 1 point\n",
    "    if payment_cleared<(0.7*spent):\n",
    "        defaulter_point+=1\n",
    "    \n",
    "    #spent is 100% of max_limit & any amount of payment is pending\n",
    "    if (spent==max_limit) and (payment_cleared<spent):\n",
    "        defaulter_point+=1\n",
    "    \n",
    "    #If for any month customer is meeting both the above conditions,assign 1 additional point.\n",
    "    if (spent==max_limit) and (payment_cleared<(0.7*spent)):\n",
    "        defaulter_point+=1\n",
    "        \n",
    "    return key_name,defaulter_point\n",
    "\n",
    "def format_output(sum_pair):\n",
    "    key_name,points=sum_pair\n",
    "    return str(key_name)+\", \"+str(points)+\"fraud points\"\n",
    "\n",
    "\n",
    "p=beam.Pipeline()\n",
    "\n",
    "card_defaulters=(\n",
    "    \n",
    "                    p\n",
    "                     |\"Read card data\" >> beam.io.ReadFromText(\"cards.txt\",skip_header_lines=1)\n",
    "                     |\"Calcluate Card Fraud Points\" >> beam.Map(calculate_points)\n",
    "                     |\"Count the number of fraud points\">>beam.CombinePerKey(sum)\n",
    "                     |\"Filter keys with >1 fraud points\">>beam.Filter(lambda records:records[1]>0)\n",
    "                     |\"Format output\">>beam.Map(format_output)\n",
    "                     |\"Write the output in a folder\">>beam.io.WriteToText(\"data\\card_defalter.txt\")\n",
    ")\n",
    "\n",
    "p.run()    \n",
    "        "
   ]
  },
  {
   "cell_type": "markdown",
   "metadata": {},
   "source": [
    "Loan Defaulter"
   ]
  },
  {
   "cell_type": "markdown",
   "metadata": {},
   "source": [
    "#customer_id, first_name,last_name,customer_category,loan_id, loan_category, due_date, due_amount, payment_date"
   ]
  },
  {
   "cell_type": "markdown",
   "metadata": {},
   "source": [
    "1. Medical loan defaulter"
   ]
  },
  {
   "cell_type": "code",
   "execution_count": 1,
   "metadata": {},
   "outputs": [
    {
     "name": "stderr",
     "output_type": "stream",
     "text": [
      "Failed to import GCSFileSystem; loading of this filesystem will be skipped. Error details: cannot import name 'storage' from 'google.cloud' (unknown location)\n"
     ]
    },
    {
     "data": {
      "application/javascript": "\n        if (typeof window.interactive_beam_jquery == 'undefined') {\n          var jqueryScript = document.createElement('script');\n          jqueryScript.src = 'https://code.jquery.com/jquery-3.4.1.slim.min.js';\n          jqueryScript.type = 'text/javascript';\n          jqueryScript.onload = function() {\n            var datatableScript = document.createElement('script');\n            datatableScript.src = 'https://cdn.datatables.net/1.10.20/js/jquery.dataTables.min.js';\n            datatableScript.type = 'text/javascript';\n            datatableScript.onload = function() {\n              window.interactive_beam_jquery = jQuery.noConflict(true);\n              window.interactive_beam_jquery(document).ready(function($){\n                \n              });\n            }\n            document.head.appendChild(datatableScript);\n          };\n          document.head.appendChild(jqueryScript);\n        } else {\n          window.interactive_beam_jquery(document).ready(function($){\n            \n          });\n        }"
     },
     "metadata": {},
     "output_type": "display_data"
    },
    {
     "data": {
      "text/plain": [
       "<apache_beam.runners.portability.fn_api_runner.fn_runner.RunnerResult at 0x256bf9772b0>"
      ]
     },
     "execution_count": 1,
     "metadata": {},
     "output_type": "execute_result"
    }
   ],
   "source": [
    "import apache_beam as beam\n",
    "#for datetime manupulation\n",
    "from datetime import datetime\n",
    "\n",
    "def calculate_late_payment(elements):               # [CT88330,Humberto,Banks,Serviceman,LN_1559,Medical Loan,26-01-2018,2000,30-01-2018]\n",
    "  \n",
    "  due_date = datetime.strptime(elements[6].rstrip().lstrip(), '%d-%m-%Y')           # due_date = 26-01-2018\n",
    "  payment_date = datetime.strptime(elements[8].rstrip().lstrip(), '%d-%m-%Y')       # payment_date = 30-01-2018\n",
    "  \n",
    "  if payment_date <= due_date:\n",
    "    elements.append('0') \n",
    "  else:\n",
    "    elements.append('1')                           # [CT88330,Humberto,Banks,Serviceman,LN_1559,Medical Loan,26-01-2018,2000,30-01-2018,1]\n",
    "    \n",
    "  return elements\n",
    "\n",
    "def format_output(sum_pair):\n",
    "  key_name, miss_months = sum_pair\n",
    "  return str(key_name) + ', ' + str(miss_months) + ' missed'\n",
    "\n",
    "p=beam.Pipeline()\n",
    "\n",
    "medical_loan_defaulter = (\n",
    "                            p\n",
    "                            |  beam.io.ReadFromText('loan.txt',skip_header_lines=1)   # 1stRow--> CT88330,Humberto,Banks,Serviceman,LN_1559,Medical Loan,26-01-2018, 2000, 30-01-2018\n",
    "                            | 'Split Row' >> beam.Map(lambda row : row.split(','))\n",
    "                            | 'Filter medical loan' >> beam.Filter(lambda element : (element[5]).rstrip().lstrip() == 'Medical Loan')\n",
    "                            | 'Calculate late payment' >> beam.Map(calculate_late_payment)\n",
    "                            | 'Make key value pairs' >> beam.Map(lambda elements: (elements[0] + ', ' + elements[1]+' '+elements[2], int(elements[9])) ) \n",
    "                            | 'Group medical loan based on month' >> beam.CombinePerKey(sum)                       # key--> (CT88330,Humberto Banks)  value --> 7\n",
    "                            | 'Check for medical loan defaulter' >> beam.Filter(lambda element: element[1] >= 3)\n",
    "                            | 'Format medical loan output' >> beam.Map(format_output)      # CT88330,Humberto Banks,7 missed\n",
    "                            | \"Write the output in a folder\">>beam.io.WriteToText(\"data\\medical_loan_defalter.txt\")\n",
    "                         )\n",
    "\n",
    "p.run() \n"
   ]
  },
  {
   "cell_type": "markdown",
   "metadata": {},
   "source": [
    "2.Personal loan defaulter"
   ]
  },
  {
   "cell_type": "code",
   "execution_count": 2,
   "metadata": {},
   "outputs": [
    {
     "data": {
      "text/plain": [
       "<apache_beam.runners.portability.fn_api_runner.fn_runner.RunnerResult at 0x2569c5227d0>"
      ]
     },
     "execution_count": 2,
     "metadata": {},
     "output_type": "execute_result"
    }
   ],
   "source": [
    "import apache_beam as beam\n",
    "#for datetime manupulation\n",
    "from datetime import datetime\n",
    "\n",
    "def calculate_personal_loan_defaulter(input):       #input key -> CT68554,Ronald Chiki   value --> [01,05,06,07,08,09,10,11,12]\n",
    "    max_allowed_missed_months = 4\n",
    "    max_allowed_consecutive_missing = 2\n",
    "    \n",
    "    name, months_list = input                                   # [CT68554,Ronald,Chiki,Serviceman,LN_8460,Personal Loan,25-01-2018,50000,25-01-2018]\n",
    "      \n",
    "    months_list.sort()\n",
    "    sorted_months = months_list                                 # sorted_months = [01,05,06,07,08,09,10,11,12]\n",
    "    total_payments = len(sorted_months)                         # total_payments = 10\n",
    "    \n",
    "    missed_payments = 12 - total_payments                       # missed_payments = 2\n",
    "\n",
    "    if missed_payments > max_allowed_missed_months:             # false\n",
    "       return name, missed_payments                             #  N/A\n",
    "    \n",
    "    consecutive_missed_months = 0\n",
    "\n",
    "    temp = sorted_months[0] - 1                                 # temp = 0\n",
    "    if temp > consecutive_missed_months:                        # false\n",
    "        consecutive_missed_months = temp                        #NA\n",
    "\n",
    "    temp = 12 - sorted_months[total_payments-1]                  \n",
    "    if temp > consecutive_missed_months:\n",
    "        consecutive_missed_months = temp                        # temp = 0\n",
    "\n",
    "    for i in range(1, len(sorted_months)):                      # [01,05,06,07,08,09,10,11,12]\n",
    "        temp = sorted_months[i] - sorted_months[i-1] -1         # temp = 5-1-1 = 3\n",
    "        if temp > consecutive_missed_months:\n",
    "            consecutive_missed_months = temp                    # consecutive_missed_months = 3\n",
    "    \n",
    "    if consecutive_missed_months > max_allowed_consecutive_missing:\n",
    "       return name, consecutive_missed_months                   # CT68554,Ronald Chiki   3\n",
    "    \n",
    "    return name, 0\n",
    "\n",
    "def format_output(sum_pair):\n",
    "    key_name, miss_months = sum_pair\n",
    "    return str(key_name) + ', ' + str(miss_months) + ' missed'\n",
    "\n",
    "def calculate_month(input_list):        #input  [CT88330,Humberto,Banks,Serviceman,LN_1559,Medical Loan,26-01-2018, 2000, 30-01-2018]\n",
    "                                       \n",
    "    # Convert payment_date to datetime and extract month of payment\n",
    "    payment_date = datetime.strptime(input_list[8].rstrip().lstrip(), '%d-%m-%Y')  # payment_date = 30-01-2018\n",
    "    input_list.append(str(payment_date.month))                                     # [CT88330,Humberto,Banks,Serviceman,LN_1559,Medical Loan,26-01-2018, 2000, 30-01-2018, 01]\n",
    "  \n",
    "    return input_list \n",
    "\n",
    "p=beam.Pipeline()\n",
    "\n",
    "personal_loan_defaulter = (\n",
    "                            p\n",
    "                            | 'Read' >> beam.io.ReadFromText('loan.txt',skip_header_lines=1)   \n",
    "                            | 'Split' >> beam.Map(lambda row : row.split(','))\n",
    "                            | 'Filter personal loan' >> beam.Filter(lambda element : (element[5]).rstrip().lstrip() == 'Personal Loan')\n",
    "                            | 'Split and Append New Month Column' >> beam.Map(calculate_month)   \n",
    "                            | 'Make key value pairs loan' >> beam.Map(lambda elements: (elements[0] + ', ' + elements[1]+' '+elements[2], int(elements[9])) ) \n",
    "                            | 'Group personal loan based on month' >> beam.GroupByKey()                                  # CT68554,Ronald Chiki [01,05,06,07,08,09,10,11,12]\n",
    "                            | 'Check for personal loan defaulter' >> beam.Map(calculate_personal_loan_defaulter)          # CT68554,Ronald Chiki   3\n",
    "                            | 'Filter only personal loan defaulters' >> beam.Filter(lambda element: element[1] > 0)\n",
    "                            | 'Format personal loan output' >> beam.Map(format_output)        # CT68554,Ronald Chiki,3 missed\n",
    "                            | \"Writing personal loan defaulter\">> beam.io.WriteToText(\"data\\personal_loan_defaulter.txt\")\n",
    "                          )   \n",
    "\n",
    "p.run()\n",
    "\n",
    " "
   ]
  },
  {
   "cell_type": "markdown",
   "metadata": {},
   "source": [
    "Code Reference"
   ]
  },
  {
   "cell_type": "code",
   "execution_count": 4,
   "metadata": {},
   "outputs": [
    {
     "data": {
      "text/plain": [
       "<apache_beam.runners.portability.fn_api_runner.fn_runner.RunnerResult at 0x256c405c2b0>"
      ]
     },
     "execution_count": 4,
     "metadata": {},
     "output_type": "execute_result"
    }
   ],
   "source": [
    "import apache_beam as beam\n",
    "\n",
    "# for datetime manipulation\n",
    "from datetime import datetime\n",
    "\n",
    "p = beam.Pipeline()\n",
    "\n",
    "def calculate_points(element):\n",
    "\n",
    "  customer_id, first_name, last_name, realtionship_id, card_type, max_limit, spent, cash_withdrawn,payment_cleared,payment_date = element.split(',')\n",
    "  #[CT28383,Miyako,Burns,R_7488,Issuers,500,490,38,101,30-01-2018]\n",
    "  \n",
    "  spent = int(spent)    # spent = 490\n",
    "  payment_cleared = int(payment_cleared)   #payment_cleared = 101\n",
    "  max_limit = int(max_limit)               # max_limit = 500\n",
    "  \n",
    "  key_name = customer_id + ', ' + first_name + ' ' + last_name     # key_name = CT28383,Miyako Burns\n",
    "  defaulter_points = 0\n",
    "  \n",
    "  # payment_cleared is less than 70% of spent - give 1 point\n",
    "  if payment_cleared < (spent * 0.7): \n",
    "     defaulter_points += 1                                                # defaulter_points =  1 \n",
    " \n",
    "  # spend is = 100% of max limit and any amount of payment is pending\n",
    "  if (spent == max_limit) and (payment_cleared < spent): \n",
    "     defaulter_points += 1                                                # defaulter_points =  2\n",
    "   \n",
    "  if (spent == max_limit) and (payment_cleared < (spent*0.7)): \n",
    "     defaulter_points += 1                                                # defaulter_points = 3\n",
    "                                  \n",
    "  return key_name, defaulter_points                                     # {CT28383,Miyako Burns  3}\n",
    "\n",
    "def format_result(sum_pair):\n",
    "  key_name, points = sum_pair\n",
    "  return str(key_name) + ', ' + str(points) + ' fraud_points'  \n",
    "\n",
    "def calculate_late_payment(elements):               # [CT88330,Humberto,Banks,Serviceman,LN_1559,Medical Loan,26-01-2018,2000,30-01-2018]\n",
    "  \n",
    "  due_date = datetime.strptime(elements[6].rstrip().lstrip(), '%d-%m-%Y')           # due_date = 26-01-2018\n",
    "  payment_date = datetime.strptime(elements[8].rstrip().lstrip(), '%d-%m-%Y')       # payment_date = 30-01-2018\n",
    "  \n",
    "  if payment_date <= due_date:\n",
    "    elements.append('0') \n",
    "  else:\n",
    "    elements.append('1')                           # [CT88330,Humberto,Banks,Serviceman,LN_1559,Medical Loan,26-01-2018,2000,30-01-2018,1]\n",
    "    \n",
    "  return elements\n",
    "\n",
    "def format_output(sum_pair):\n",
    "  key_name, miss_months = sum_pair\n",
    "  return str(key_name) + ', ' + str(miss_months) + ' missed'\n",
    "\n",
    "def calculate_month(input_list):        #input  [CT88330,Humberto,Banks,Serviceman,LN_1559,Medical Loan,26-01-2018, 2000, 30-01-2018]\n",
    "                                       \n",
    "  # Convert payment_date to datetime and extract month of payment\n",
    "  payment_date = datetime.strptime(input_list[8].rstrip().lstrip(), '%d-%m-%Y')  # payment_date = 30-01-2018\n",
    "  input_list.append(str(payment_date.month))                                     # [CT88330,Humberto,Banks,Serviceman,LN_1559,Medical Loan,26-01-2018, 2000, 30-01-2018, 01]\n",
    "  \n",
    "  return input_list \n",
    "\n",
    "def calculate_personal_loan_defaulter(input):       #input key -> CT68554,Ronald Chiki   value --> [01,05,06,07,08,09,10,11,12]\n",
    "    max_allowed_missed_months = 4\n",
    "    max_allowed_consecutive_missing = 2\n",
    "    \n",
    "    name, months_list = input                                   # [CT68554,Ronald,Chiki,Serviceman,LN_8460,Personal Loan,25-01-2018,50000,25-01-2018]\n",
    "      \n",
    "    months_list.sort()\n",
    "    sorted_months = months_list                                 # sorted_months = [01,05,06,07,08,09,10,11,12]\n",
    "    total_payments = len(sorted_months)                         # total_payments = 10\n",
    "    \n",
    "    missed_payments = 12 - total_payments                       # missed_payments = 2\n",
    "\n",
    "    if missed_payments > max_allowed_missed_months:             # false\n",
    "       return name, missed_payments                             #  N/A\n",
    "    \n",
    "    consecutive_missed_months = 0\n",
    "\n",
    "    temp = sorted_months[0] - 1                                 # temp = 0\n",
    "    if temp > consecutive_missed_months:                        # false\n",
    "        consecutive_missed_months = temp                        #NA\n",
    "\n",
    "    temp = 12 - sorted_months[total_payments-1]                  \n",
    "    if temp > consecutive_missed_months:\n",
    "        consecutive_missed_months = temp                        # temp = 0\n",
    "\n",
    "    for i in range(1, len(sorted_months)):                      # [01,05,06,07,08,09,10,11,12]\n",
    "        temp = sorted_months[i] - sorted_months[i-1] -1         # temp = 5-1-1 = 3\n",
    "        if temp > consecutive_missed_months:\n",
    "            consecutive_missed_months = temp                    # consecutive_missed_months = 3\n",
    "    \n",
    "    if consecutive_missed_months > max_allowed_consecutive_missing:\n",
    "       return name, consecutive_missed_months                   # CT68554,Ronald Chiki   3\n",
    "    \n",
    "    return name, 0 \n",
    "\n",
    "def return_tuple(element):\n",
    "  thisTuple=element.split(',')\n",
    "  return (thisTuple[0],thisTuple[1:])    \n",
    "\n",
    "card_defaulter = (\n",
    "                  p\n",
    "                  | 'Read credit card data' >> beam.io.ReadFromText('cards.txt',skip_header_lines=1)\n",
    "                  | 'Calculate defaulter points' >> beam.Map(calculate_points)                            \n",
    "                  | 'Combine points for defaulters' >> beam.CombinePerKey(sum)                            # key--> CT28383,Miyako Burns   value --> 6 \n",
    "                  | 'Filter card defaulters' >> beam.Filter(lambda element: element[1] > 0)\n",
    "                  | 'Format output' >> beam.Map(format_result)                                            # CT28383,Miyako Burns,6 fraud_points\n",
    "                 # | 'Write credit card data' >> beam.io.WriteToText('outputs/card_skippers') \n",
    "                  | 'tuple ' >> beam.Map(return_tuple)  \n",
    "                  )\t\t\n",
    "\n",
    "medical_loan_defaulter = (\n",
    "                            p\n",
    "                            |  beam.io.ReadFromText('loan.txt',skip_header_lines=1)   # 1stRow--> CT88330,Humberto,Banks,Serviceman,LN_1559,Medical Loan,26-01-2018, 2000, 30-01-2018\n",
    "                            | 'Split Row' >> beam.Map(lambda row : row.split(','))\n",
    "                            | 'Filter medical loan' >> beam.Filter(lambda element : (element[5]).rstrip().lstrip() == 'Medical Loan')\n",
    "                            | 'Calculate late payment' >> beam.Map(calculate_late_payment)\n",
    "                            | 'Make key value pairs' >> beam.Map(lambda elements: (elements[0] + ', ' + elements[1]+' '+elements[2], int(elements[9])) ) \n",
    "                            | 'Group medical loan based on month' >> beam.CombinePerKey(sum)                       # key--> (CT88330,Humberto Banks)  value --> 7\n",
    "                            | 'Check for medical loan defaulter' >> beam.Filter(lambda element: element[1] >= 3)\n",
    "                            | 'Format medical loan output' >> beam.Map(format_output)      # CT88330,Humberto Banks,7 missed\n",
    "                         )     \n",
    "\n",
    "personal_loan_defaulter = (\n",
    "                            p\n",
    "                            | 'Read' >> beam.io.ReadFromText('loan.txt',skip_header_lines=1)   \n",
    "                            | 'Split' >> beam.Map(lambda row : row.split(','))\n",
    "                            | 'Filter personal loan' >> beam.Filter(lambda element : (element[5]).rstrip().lstrip() == 'Personal Loan')\n",
    "                            | 'Split and Append New Month Column' >> beam.Map(calculate_month)   \n",
    "                            | 'Make key value pairs loan' >> beam.Map(lambda elements: (elements[0] + ', ' + elements[1]+' '+elements[2], int(elements[9])) ) \n",
    "                            | 'Group personal loan based on month' >> beam.GroupByKey()                                  # CT68554,Ronald Chiki [01,05,06,07,08,09,10,11,12]\n",
    "                            | 'Check for personal loan defaulter' >> beam.Map(calculate_personal_loan_defaulter)          # CT68554,Ronald Chiki   3\n",
    "                            | 'Filter only personal loan defaulters' >> beam.Filter(lambda element: element[1] > 0)\n",
    "                            | 'Format personal loan output' >> beam.Map(format_output)        # CT68554,Ronald Chiki,3 missed\n",
    "                          )   \n",
    "                          \n",
    "final_loan_defaulters = (\n",
    "                          ( personal_loan_defaulter, medical_loan_defaulter )\n",
    "                          | 'Combine all defaulters' >> beam.Flatten()\n",
    "                          #| 'Write all defaulters to text file' >> beam.io.WriteToText('outputs/loan_defaulters')\n",
    "                          | 'tuple for loan' >> beam.Map(return_tuple)\n",
    "                        )  \n",
    "                        \n",
    "both_defaulters =  (\n",
    "                    {'card_defaulter': card_defaulter, 'loan_defaulter': final_loan_defaulters}\n",
    "                    | beam.CoGroupByKey()\n",
    "                    | beam.io.WriteToText(\"data\\card_and_loan_defaulter.txt\")\n",
    "                   )            \n",
    "\n",
    "\t\t\t\t  \t\t  \n",
    "p.run()\t"
   ]
  }
 ],
 "metadata": {
  "kernelspec": {
   "display_name": "Python 3",
   "language": "python",
   "name": "python3"
  },
  "language_info": {
   "codemirror_mode": {
    "name": "ipython",
    "version": 3
   },
   "file_extension": ".py",
   "mimetype": "text/x-python",
   "name": "python",
   "nbconvert_exporter": "python",
   "pygments_lexer": "ipython3",
   "version": "3.10.6"
  }
 },
 "nbformat": 4,
 "nbformat_minor": 2
}
